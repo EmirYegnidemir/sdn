{
 "cells": [
  {
   "cell_type": "code",
   "execution_count": 2,
   "metadata": {
    "collapsed": true
   },
   "outputs": [
    {
     "name": "stderr",
     "output_type": "stream",
     "text": [
      "[nltk_data] Downloading package punkt to /home/mini/nltk_data...\n",
      "[nltk_data]   Package punkt is already up-to-date!\n",
      "[nltk_data] Downloading package stopwords to /home/mini/nltk_data...\n",
      "[nltk_data]   Package stopwords is already up-to-date!\n",
      "[nltk_data] Downloading package wordnet to /home/mini/nltk_data...\n",
      "[nltk_data]   Package wordnet is already up-to-date!\n"
     ]
    },
    {
     "data": {
      "text/plain": [
       "True"
      ]
     },
     "execution_count": 2,
     "metadata": {},
     "output_type": "execute_result"
    }
   ],
   "source": [
    "from nltk.corpus import stopwords\n",
    "\n",
    "import nltk\n",
    "import pandas as pd\n",
    "\n",
    "nltk.download('punkt')\n",
    "nltk.download('stopwords')\n",
    "nltk.download('wordnet')"
   ]
  },
  {
   "cell_type": "code",
   "execution_count": 4,
   "metadata": {
    "collapsed": false
   },
   "outputs": [],
   "source": [
    "df = pd.read_csv('sqli.csv', encoding='utf-16')"
   ]
  },
  {
   "cell_type": "code",
   "execution_count": 5,
   "metadata": {
    "collapsed": false
   },
   "outputs": [],
   "source": [
    "from sklearn.feature_extraction.text import CountVectorizer\n",
    "\n",
    "vectorizer = CountVectorizer(\n",
    "    min_df=2,\n",
    "    max_df=0.7,\n",
    "    max_features=4096,\n",
    "    stop_words=stopwords.words('english')\n",
    ")\n",
    "X = vectorizer.fit_transform(df['Sentence'].values.astype('U')).toarray()"
   ]
  },
  {
   "cell_type": "code",
   "execution_count": 6,
   "metadata": {
    "collapsed": false
   },
   "outputs": [
    {
     "data": {
      "text/plain": [
       "(4200, 4096)"
      ]
     },
     "execution_count": 6,
     "metadata": {},
     "output_type": "execute_result"
    }
   ],
   "source": [
    "X.shape"
   ]
  },
  {
   "cell_type": "code",
   "execution_count": 7,
   "metadata": {
    "collapsed": false
   },
   "outputs": [],
   "source": [
    "X = X.reshape(X.shape[0], 64, 64, 1)"
   ]
  },
  {
   "cell_type": "code",
   "execution_count": 8,
   "metadata": {
    "collapsed": false
   },
   "outputs": [
    {
     "data": {
      "text/plain": [
       "(4200, 64, 64, 1)"
      ]
     },
     "execution_count": 8,
     "metadata": {},
     "output_type": "execute_result"
    }
   ],
   "source": [
    "X.shape"
   ]
  },
  {
   "cell_type": "code",
   "execution_count": 9,
   "metadata": {
    "collapsed": false
   },
   "outputs": [],
   "source": [
    "\n",
    "y=df['Label']"
   ]
  },
  {
   "cell_type": "code",
   "execution_count": 10,
   "metadata": {
    "collapsed": false
   },
   "outputs": [],
   "source": [
    "from sklearn.model_selection import train_test_split\n",
    "\n",
    "\n",
    "X_train, X_test, y_train, y_test = train_test_split(X, y, test_size=0.2, random_state=42)\n",
    "trainX = X_train.copy()\n",
    "trainX.shape=(X_train.shape[0],trainX.shape[1]*trainX.shape[2])\n",
    "testX=X_test.copy()\n",
    "testX.shape=(testX.shape[0],testX.shape[1]*testX.shape[2])"
   ]
  },
  {
   "cell_type": "code",
   "execution_count": 9,
   "metadata": {
    "collapsed": false
   },
   "outputs": [],
   "source": [
    "#Naive Bayes\n",
    "from sklearn.naive_bayes import GaussianNB\n",
    "\n",
    "\n",
    "gnb = GaussianNB()\n",
    "gnb.fit(trainX, y_train)\n",
    "pred_gnb = gnb.predict(testX)"
   ]
  },
  {
   "cell_type": "code",
   "execution_count": 10,
   "metadata": {
    "collapsed": false
   },
   "outputs": [],
   "source": [
    "#SVM\n",
    "from sklearn.svm import SVC\n",
    "\n",
    "\n",
    "clf = SVC(gamma='auto')\n",
    "clf.fit(trainX, y_train)\n",
    "pred_svm=clf.predict(testX)"
   ]
  },
  {
   "cell_type": "code",
   "execution_count": 11,
   "metadata": {
    "collapsed": false
   },
   "outputs": [],
   "source": [
    "#KNN\n",
    "from sklearn.neighbors import KNeighborsClassifier\n",
    "\n",
    "neigh=KNeighborsClassifier(n_neighbors=3)\n",
    "neigh.fit(trainX,y_train)\n",
    "pred_knn=neigh.predict(testX)"
   ]
  },
  {
   "cell_type": "code",
   "execution_count": 12,
   "metadata": {
    "collapsed": false
   },
   "outputs": [],
   "source": [
    "#DTree\n",
    "from sklearn import tree\n",
    "\n",
    "\n",
    "dt=tree.DecisionTreeClassifier()\n",
    "dt=dt.fit(trainX, y_train)\n",
    "pred_dt=dt.predict(testX)"
   ]
  },
  {
   "cell_type": "code",
   "execution_count": 11,
   "metadata": {
    "collapsed": false
   },
   "outputs": [],
   "source": [
    "#CNN\n",
    "import tensorflow as tf\n",
    "\n",
    "\n",
    "model = tf.keras.models.Sequential([\n",
    "    tf.keras.layers.Conv2D(64, (3,3), activation=tf.nn.relu, input_shape=(64,64,1)),\n",
    "    tf.keras.layers.MaxPooling2D(2,2),\n",
    "\n",
    "    tf.keras.layers.Conv2D(128,(3,3), activation=tf.nn.relu),\n",
    "    tf.keras.layers.MaxPooling2D(2,2),\n",
    "\n",
    "    tf.keras.layers.Conv2D(256,(3,3), activation='relu'),\n",
    "    tf.keras.layers.MaxPooling2D(2,2),\n",
    "\n",
    "    tf.keras.layers.Flatten(),\n",
    "    tf.keras.layers.Dense(256, activation='relu'),\n",
    "    tf.keras.layers.Dense(128,activation='relu'),\n",
    "    tf.keras.layers.Dense(64, activation=tf.nn.relu),\n",
    "    tf.keras.layers.Dense(1, activation='sigmoid')\n",
    "])"
   ]
  },
  {
   "cell_type": "code",
   "execution_count": 12,
   "metadata": {
    "collapsed": false
   },
   "outputs": [
    {
     "name": "stdout",
     "output_type": "stream",
     "text": [
      "WARNING:tensorflow:From /home/mini/.local/lib/python2.7/site-packages/tensorflow/python/keras/_impl/keras/backend.py:1557: calling reduce_mean (from tensorflow.python.ops.math_ops) with keep_dims is deprecated and will be removed in a future version.\n",
      "Instructions for updating:\n",
      "keep_dims is deprecated, use keepdims instead\n",
      "_________________________________________________________________\n",
      "Layer (type)                 Output Shape              Param #   \n",
      "=================================================================\n",
      "conv2d_1 (Conv2D)            (None, 62, 62, 64)        640       \n",
      "_________________________________________________________________\n",
      "max_pooling2d_1 (MaxPooling2 (None, 31, 31, 64)        0         \n",
      "_________________________________________________________________\n",
      "conv2d_2 (Conv2D)            (None, 29, 29, 128)       73856     \n",
      "_________________________________________________________________\n",
      "max_pooling2d_2 (MaxPooling2 (None, 14, 14, 128)       0         \n",
      "_________________________________________________________________\n",
      "conv2d_3 (Conv2D)            (None, 12, 12, 256)       295168    \n",
      "_________________________________________________________________\n",
      "max_pooling2d_3 (MaxPooling2 (None, 6, 6, 256)         0         \n",
      "_________________________________________________________________\n",
      "flatten_1 (Flatten)          (None, 9216)              0         \n",
      "_________________________________________________________________\n",
      "dense_1 (Dense)              (None, 256)               2359552   \n",
      "_________________________________________________________________\n",
      "dense_2 (Dense)              (None, 128)               32896     \n",
      "_________________________________________________________________\n",
      "dense_3 (Dense)              (None, 64)                8256      \n",
      "_________________________________________________________________\n",
      "dense_4 (Dense)              (None, 1)                 65        \n",
      "=================================================================\n",
      "Total params: 2,770,433\n",
      "Trainable params: 2,770,433\n",
      "Non-trainable params: 0\n",
      "_________________________________________________________________\n"
     ]
    }
   ],
   "source": [
    "model.compile(loss='binary_crossentropy',\n",
    "              optimizer='adam',\n",
    "              metrics=['accuracy'])\n",
    "model.summary()"
   ]
  },
  {
   "cell_type": "code",
   "execution_count": 13,
   "metadata": {
    "collapsed": false
   },
   "outputs": [
    {
     "name": "stdout",
     "output_type": "stream",
     "text": [
      "Train on 3360 samples, validate on 840 samples\n",
      "Epoch 1/10\n",
      "3360/3360 [==============================]3360/3360 [==============================] - 71s 21ms/step - loss: 0.3062 - acc: 0.8494 - val_loss: 0.1884 - val_acc: 0.9214\n",
      "\n",
      "Epoch 2/10\n",
      "3360/3360 [==============================]3360/3360 [==============================] - 50s 15ms/step - loss: 0.1440 - acc: 0.9387 - val_loss: 0.1445 - val_acc: 0.9417\n",
      "\n",
      "Epoch 3/10\n",
      "3360/3360 [==============================]3360/3360 [==============================] - 54s 16ms/step - loss: 0.1112 - acc: 0.9536 - val_loss: 0.1223 - val_acc: 0.9440\n",
      "\n",
      "Epoch 4/10\n",
      "3360/3360 [==============================]3360/3360 [==============================] - 60s 18ms/step - loss: 0.0933 - acc: 0.9577 - val_loss: 0.1168 - val_acc: 0.9512\n",
      "\n",
      "Epoch 5/10\n",
      "3360/3360 [==============================]3360/3360 [==============================] - 54s 16ms/step - loss: 0.0840 - acc: 0.9643 - val_loss: 0.1030 - val_acc: 0.9560\n",
      "\n",
      "Epoch 6/10\n",
      "3360/3360 [==============================]3360/3360 [==============================] - 52s 16ms/step - loss: 0.0765 - acc: 0.9676 - val_loss: 0.0924 - val_acc: 0.9560\n",
      "\n",
      "Epoch 7/10\n",
      "3360/3360 [==============================]3360/3360 [==============================] - 45s 13ms/step - loss: 0.0645 - acc: 0.9714 - val_loss: 0.1052 - val_acc: 0.9607\n",
      "\n",
      "Epoch 8/10\n",
      "3360/3360 [==============================]3360/3360 [==============================] - 44s 13ms/step - loss: 0.0621 - acc: 0.9759 - val_loss: 0.1014 - val_acc: 0.9619\n",
      "\n",
      "Epoch 9/10\n",
      "3360/3360 [==============================]3360/3360 [==============================] - 41s 12ms/step - loss: 0.0644 - acc: 0.9762 - val_loss: 0.0926 - val_acc: 0.9631\n",
      "\n",
      "Epoch 10/10\n",
      "3360/3360 [==============================]3360/3360 [==============================] - 42s 12ms/step - loss: 0.0550 - acc: 0.9783 - val_loss: 0.0720 - val_acc: 0.9679\n",
      "\n"
     ]
    }
   ],
   "source": [
    "classifier_nn=model.fit(X_train,y_train,\n",
    "                        epochs=10,\n",
    "                        validation_data=(X_test, y_test),\n",
    "                        batch_size=128)"
   ]
  },
  {
   "cell_type": "code",
   "execution_count": 14,
   "metadata": {
    "collapsed": false
   },
   "outputs": [],
   "source": [
    "pred_nn = model.predict(X_test)\n",
    "\n",
    "for i in range(len(pred_nn)):\n",
    "    if pred_nn[i]>0.5:\n",
    "        pred_nn[i]=1\n",
    "    elif pred_nn[i]<=0.5:\n",
    "        pred_nn[i]=0\n"
   ]
  },
  {
   "cell_type": "code",
   "execution_count": 17,
   "metadata": {
    "collapsed": false
   },
   "outputs": [
    {
     "data": {
      "text/plain": [
       "0.9654761904761905"
      ]
     },
     "execution_count": 17,
     "metadata": {},
     "output_type": "execute_result"
    }
   ],
   "source": [
    "\"\"\"from sklearn.metrics import accuracy_score\n",
    "\n",
    "\n",
    "accuracy_score(y_test,pred_nn)\"\"\""
   ]
  },
  {
   "cell_type": "code",
   "execution_count": 15,
   "metadata": {
    "collapsed": false
   },
   "outputs": [
    {
     "name": "stderr",
     "output_type": "stream",
     "text": [
      "Using TensorFlow backend.\n"
     ]
    }
   ],
   "source": [
    "#save the model\n",
    "from keras.models import load_model\n",
    "import pickle\n",
    "\n",
    "\n",
    "model.save('model_cnn_3.h5')\n",
    "with open('vectorizer_cnn','wb') as fin:\n",
    "    pickle.dump(vectorizer, fin)"
   ]
  },
  {
   "cell_type": "code",
   "execution_count": 19,
   "metadata": {
    "collapsed": false
   },
   "outputs": [
    {
     "name": "stdout",
     "output_type": "stream",
     "text": [
      "For CNN\n",
      "Accuracy: 0.9654761904761905\n",
      "Precision: 0.9114391143911439\n",
      "Recall: 0.9801587301587301\n",
      "For Naive Bayes\n",
      "Accuracy: 0.9773809523809524\n",
      "Precision: 0.9298892988929889\n",
      "Recall: 1.0\n",
      "For SVM\n",
      "Accuracy: 0.7642857142857142\n",
      "Precision: 1.0\n",
      "Recall: 0.21428571428571427\n",
      "For KNN\n",
      "Accuracy: 0.5976190476190476\n",
      "Precision: 0.4271186440677966\n",
      "Recall: 1.0\n",
      "For Decision Tree\n",
      "Accuracy: 0.8702380952380953\n",
      "Precision: 0.6980609418282548\n",
      "Recall: 1.0\n"
     ]
    },
    {
     "data": {
      "text/plain": [
       "'\\nNaive Bayes performed well in terms of accuracy, precision, and recall, achieving high values in all metrics.\\n\\nSVM achieved perfect precision but relatively low accuracy and recall.\\n\\nCNN showed high accuracy and recall, but its precision was slightly lower than Naive Bayes.\\n\\nKNN had relatively lower accuracy, precision, and recall compared to the other methods.\\n\\nDecision Tree performed reasonably well with good accuracy and precision, but its recall was perfect.'"
      ]
     },
     "execution_count": 19,
     "metadata": {},
     "output_type": "execute_result"
    }
   ],
   "source": [
    "\"\"\"#confusion matrix\n",
    "from sklearn.metrics import accuracy_score, precision_score, recall_score\n",
    "\n",
    "\n",
    "accuracy, precision, recall = accuracy_score(y_test, pred_nn),\\\n",
    "    precision_score(y_test, pred_nn),\\\n",
    "    recall_score(y_test, pred_nn)\n",
    "\n",
    "print(f\"For CNN\\nAccuracy: {accuracy}\\nPrecision: {precision}\\nRecall: {recall}\")\n",
    "\n",
    "accuracy, precision, recall = accuracy_score(y_test, pred_gnb),\\\n",
    "    precision_score(y_test, pred_gnb),\\\n",
    "    recall_score(y_test, pred_gnb)\n",
    "\n",
    "print(f\"For Naive Bayes\\nAccuracy: {accuracy}\\nPrecision: {precision}\\nRecall: {recall}\")\n",
    "\n",
    "accuracy, precision, recall = accuracy_score(y_test, pred_svm), \\\n",
    "    precision_score(y_test, pred_svm), \\\n",
    "    recall_score(y_test, pred_svm)\n",
    "print(f\"For SVM\\nAccuracy: {accuracy}\\nPrecision: {precision}\\nRecall: {recall}\")\n",
    "\n",
    "accuracy, precision, recall = accuracy_score(y_test, pred_knn), \\\n",
    "    precision_score(y_test, pred_knn), \\\n",
    "    recall_score(y_test, pred_knn)\n",
    "print(f\"For KNN\\nAccuracy: {accuracy}\\nPrecision: {precision}\\nRecall: {recall}\")\n",
    "\n",
    "accuracy, precision, recall = accuracy_score(y_test, pred_dt), \\\n",
    "    precision_score(y_test, pred_dt), \\\n",
    "    recall_score(y_test, pred_dt)\n",
    "print(f\"For Decision Tree\\nAccuracy: {accuracy}\\nPrecision: {precision}\\nRecall: {recall}\")\n",
    "\"\"\"\n",
    "#comments on the obtained results\n",
    "'''\n",
    "Naive Bayes performed well in terms of accuracy, precision, and recall, achieving high values in all metrics.\n",
    "\n",
    "SVM achieved perfect precision but relatively low accuracy and recall.\n",
    "\n",
    "CNN showed high accuracy and recall, but its precision was slightly lower than Naive Bayes.\n",
    "\n",
    "KNN had relatively lower accuracy, precision, and recall compared to the other methods.\n",
    "\n",
    "Decision Tree performed reasonably well with good accuracy and precision, but its recall was perfect.'''"
   ]
  },
  {
   "cell_type": "code",
   "execution_count": 20,
   "metadata": {
    "collapsed": false
   },
   "outputs": [
    {
     "name": "stdout",
     "output_type": "stream",
     "text": [
      "27/27 [==============================] - 1s 48ms/step\n"
     ]
    },
    {
     "data": {
      "image/png": "[encoded data removed]",
      "text/plain": [
       "<Figure size 640x480 with 1 Axes>"
      ]
     },
     "metadata": {},
     "output_type": "display_data"
    }
   ],
   "source": [
    "\"\"\"from sklearn.metrics import roc_curve, auc\n",
    "import matplotlib.pyplot as plt\n",
    "\n",
    "y_pred = model.predict(X_test)\n",
    "fpr, tpr, thresholds = roc_curve(y_test, y_pred)\n",
    "\n",
    "roc_auc = auc(fpr, tpr)\n",
    "\n",
    "plt.figure()\n",
    "plt.plot(fpr, tpr, color='darkorange', lw=2, label='ROC curve (AUC = %0.2f)' % roc_auc)\n",
    "plt.plot([0, 1], [0, 1], color='navy', lw=2, linestyle='--')\n",
    "plt.xlim([0.0, 1.0])\n",
    "plt.ylim([0.0, 1.05])\n",
    "plt.xlabel('False Positive Rate')\n",
    "plt.ylabel('True Positive Rate')\n",
    "plt.title('Receiver Operating Characteristic (ROC)')\n",
    "plt.legend(loc=\"lower right\")\n",
    "plt.show()\"\"\""
   ]
  },
  {
   "cell_type": "code",
   "execution_count": null,
   "metadata": {
    "collapsed": false
   },
   "outputs": [],
   "source": []
  }
 ],
 "metadata": {
  "kernelspec": {
   "display_name": "Python 3",
   "language": "python",
   "name": "python3"
  },
  "language_info": {
   "codemirror_mode": {
    "name": "ipython",
    "version": 2
   },
   "file_extension": ".py",
   "mimetype": "text/x-python",
   "name": "python",
   "nbconvert_exporter": "python",
   "pygments_lexer": "ipython2",
   "version": "2.7.18"
  }
 },
 "nbformat": 4,
 "nbformat_minor": 0
}
